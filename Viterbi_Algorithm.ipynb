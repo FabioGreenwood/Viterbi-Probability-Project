{
  "nbformat": 4,
  "nbformat_minor": 0,
  "metadata": {
    "colab": {
      "name": "Viterbi Algorithm.ipynb",
      "provenance": [],
      "collapsed_sections": [],
      "toc_visible": true,
      "authorship_tag": "ABX9TyO5si4UgQ/xwu9JfYDw1v2Z",
      "include_colab_link": true
    },
    "kernelspec": {
      "display_name": "Python 3",
      "name": "python3"
    },
    "language_info": {
      "name": "python"
    }
  },
  "cells": [
    {
      "cell_type": "markdown",
      "metadata": {
        "id": "view-in-github",
        "colab_type": "text"
      },
      "source": [
        "<a href=\"https://colab.research.google.com/github/FabioGreenwood/Viterbi-Probability-Project/blob/main/Viterbi_Algorithm.ipynb\" target=\"_parent\"><img src=\"https://colab.research.google.com/assets/colab-badge.svg\" alt=\"Open In Colab\"/></a>"
      ]
    },
    {
      "cell_type": "code",
      "metadata": {
        "id": "gQIZfxGNE1Bv"
      },
      "source": [
        "import numpy as np\n",
        "import pdb"
      ],
      "execution_count": null,
      "outputs": []
    },
    {
      "cell_type": "markdown",
      "source": [
        "Below is a simple test of the accuracy of the viterbi algorithm.\n",
        "\n",
        "Please note this is a work in progress and if I was to submitt this I would want to add to it and clean up the presentation.\n",
        "\n",
        "Currently the code takes a hidden markov chain along with a recorded visible state and uses the viterbi algorithm to predict the most likely hidden state. Later the same hidden state is predicted using a scan (full DOE) of all the potential hidden states to calculate the hidden state.\n",
        "\n"
      ],
      "metadata": {
        "id": "uqlNEJ3HpOp1"
      }
    },
    {
      "cell_type": "markdown",
      "metadata": {
        "id": "Wc8RWaM5sF0b"
      },
      "source": [
        "### Functions"
      ]
    },
    {
      "cell_type": "code",
      "metadata": {
        "id": "BYR43i-diZuF"
      },
      "source": [
        "def permutations_generator(vector_length, possible_states):\n",
        "# This method returns every permutation of a give vector, given that each element can take any of the given states\n",
        "\n",
        "\n",
        "  #input variables\n",
        "  ##Hidden_States = ['S', 'R']\n",
        "  ##moods = ['H', 'H', 'G', 'G', 'H']\n",
        "\n",
        "  output1 = []\n",
        "  output2 = []\n",
        "  perm_qty = len(possible_states) ** vector_length\n",
        "  for perm_num in range(0, perm_qty):\n",
        "    #pdb.set_trace()  \n",
        "    #print(str(perm_num))\n",
        "    permutation_makeup = DecimalToNonDecimal(perm_num, len(possible_states), \"\", vector_length)\n",
        "    output2.append(permutation_makeup)\n",
        "    perm_output = []\n",
        "    \n",
        "    for state_num in range(0, len(permutation_makeup)):\n",
        "      identity = int(permutation_makeup[state_num])\n",
        "      perm_output.append(possible_states[identity])\n",
        "\n",
        "    output1.append(perm_output)\n",
        "\n",
        "  return output1, output2\n",
        "\n",
        "#permutations_generator(2, [\"A\",\"B\"])[1][1][1]\n"
      ],
      "execution_count": null,
      "outputs": []
    },
    {
      "cell_type": "code",
      "metadata": {
        "id": "bqTyUNWMiYY1"
      },
      "source": [
        "def DecimalToNonDecimal(num, new_number_base, st, length):\n",
        "    \n",
        "    if num >= new_number_base:\n",
        "        \n",
        "        st1 = DecimalToNonDecimal(num // new_number_base, new_number_base, st, length -1)\n",
        "        st2 = str(num % new_number_base)\n",
        "        #pdb.set_trace()\n",
        "        st = st1 + st2\n",
        "    else:\n",
        "      st = str(num)\n",
        "\n",
        "    if len(st) < length:\n",
        "      for i in range(len(st), length):\n",
        "        #pdb.set_trace()\n",
        "        st = '0' + st\n",
        "\n",
        "    return st\n",
        "    #print(num % new_number_base, end = '')"
      ],
      "execution_count": null,
      "outputs": []
    },
    {
      "cell_type": "markdown",
      "metadata": {
        "id": "XfIePV0XsK_m"
      },
      "source": [
        "Viterbi Algorithm Approach"
      ]
    },
    {
      "cell_type": "code",
      "metadata": {
        "colab": {
          "base_uri": "https://localhost:8080/"
        },
        "id": "o7yMJsbwU4MP",
        "outputId": "bad55341-2fda-4572-ed1b-d63c0bcb2d51"
      },
      "source": [
        "# TransitionProbabilities\n",
        "p_ss = 0.8\n",
        "p_sr = 0.2\n",
        "p_rs = 0.4\n",
        "p_rr = 0.6\n",
        "\n",
        "# Initial Probabilities\n",
        "p_s = 2/3\n",
        "p_r = 1/3\n",
        "\n",
        "# Emission Probabilities\n",
        "p_sh = 0.8\n",
        "p_sg = 0.2\n",
        "p_rh = 0.4\n",
        "p_rg = 0.6\n",
        "\n",
        "\n",
        "moods = ['H', 'H', 'G', 'G', 'G', 'H']\n",
        "probabilities = []\n",
        "weather = []\n",
        "\n",
        "if moods[0] == 'H':\n",
        "  probabilities.append((p_s*p_sh, p_r*p_rh))\n",
        "else:\n",
        "  probabilities.append((p_s*p_sg, p_r*p_rg))\n",
        "\n",
        "for i in range(1, len(moods)):\n",
        "  yesterday_sunny, yesterday_rainy = probabilities[-1]\n",
        "  if moods[i] =='H':\n",
        "    today_sunny = max(yesterday_sunny*p_ss*p_sh, yesterday_rainy*p_rs*p_sh)\n",
        "    today_rainy = max(yesterday_sunny*p_sr*p_rh, yesterday_rainy*p_rr*p_rh)\n",
        "    probabilities.append((today_sunny, today_rainy))\n",
        "  else:\n",
        "    today_sunny = max(yesterday_sunny*p_ss*p_sg, yesterday_rainy*p_rs*p_sg)\n",
        "    today_rainy = max(yesterday_sunny*p_sr*p_rg, yesterday_rainy*p_rr*p_rg)\n",
        "    probabilities.append((today_sunny, today_rainy))\n",
        "\n",
        "for p in probabilities:\n",
        "  #pdb.set_trace()\n",
        "  if p[0] > p[1]:\n",
        "    weather.append('S')\n",
        "  else:\n",
        "    weather.append('R')\n",
        "\n",
        "weather  "
      ],
      "execution_count": null,
      "outputs": [
        {
          "output_type": "execute_result",
          "data": {
            "text/plain": [
              "['S', 'S', 'S', 'R', 'R', 'S']"
            ]
          },
          "metadata": {},
          "execution_count": 4
        }
      ]
    },
    {
      "cell_type": "markdown",
      "metadata": {
        "id": "VBHoRGNFsRjA"
      },
      "source": [
        "\n",
        "\n",
        "```\n",
        "# This is formatted as code\n",
        "```\n",
        "\n",
        "Full DOE Scan Of Hidden Makrov Chain Approach"
      ]
    },
    {
      "cell_type": "code",
      "metadata": {
        "colab": {
          "base_uri": "https://localhost:8080/"
        },
        "id": "m0IphsgZA9YC",
        "outputId": "00cb6f39-09c3-42a9-9978-88fb2a237fcc"
      },
      "source": [
        "probabilities"
      ],
      "execution_count": null,
      "outputs": [
        {
          "output_type": "execute_result",
          "data": {
            "text/plain": [
              "[(0.5333333333333333, 0.13333333333333333),\n",
              " (0.3413333333333334, 0.04266666666666667),\n",
              " (0.05461333333333335, 0.04096000000000001),\n",
              " (0.008738133333333337, 0.014745600000000001),\n",
              " (0.0013981013333333341, 0.005308416),\n",
              " (0.00169869312, 0.00127401984)]"
            ]
          },
          "metadata": {},
          "execution_count": 5
        }
      ]
    },
    {
      "cell_type": "code",
      "metadata": {
        "colab": {
          "base_uri": "https://localhost:8080/"
        },
        "id": "W644LnmedbeW",
        "outputId": "31b354cc-026e-4d5a-fbb8-019fa534dab7"
      },
      "source": [
        "# Evaluation of every possible path\n",
        "\n",
        "#input variables\n",
        "Hidden_States = ['S', 'R'] # Sunny, Rainy\n",
        "Visible_States = ['H', 'G'] # Happy, Grumpy\n",
        "#moods = ['H', 'H', 'G', 'G', 'G', 'H']\n",
        "\n",
        "moods = ['H', 'H', 'G', 'G', 'G', 'H', 'H', 'G', 'G', 'G', 'H', 'H', 'G', 'G', 'G', 'H', 'H', 'G', 'G', 'G', 'H']\n",
        "\n",
        "\n",
        "#secondary parameters\n",
        "Length_of_Period = len(moods)\n",
        "num_hidden_states =  len(Hidden_States)\n",
        "potentialPaths_qty = num_hidden_states**Length_of_Period\n",
        "potentialPaths, potentialPaths_Index = permutations_generator(len(moods), Hidden_States)\n",
        "Probabilities = []\n",
        "Total_Probabilities = 0\n",
        "\n",
        "#calculation variables\n",
        "probability_of_permutations = []\n",
        "P_Yn_Xn = []\n",
        "P_Xn_Xn = []\n",
        "#P_X1 = []\n",
        "\n",
        "\n",
        "# TransitionProbabilities\n",
        "p_ss = 0.8\n",
        "p_sr = 0.2\n",
        "p_rs = 0.4\n",
        "p_rr = 0.6\n",
        "Trans_Probs = [[p_ss, p_sr],[p_rs, p_rr]]\n",
        "\n",
        "# Initial Probabilities\n",
        "p_s = 2/3\n",
        "p_r = 1/3\n",
        "Initial_Probs = [p_s, p_r]\n",
        "\n",
        "# Emission Probabilities\n",
        "p_sh = 0.8\n",
        "p_sg = 0.2\n",
        "p_rh = 0.4\n",
        "p_rg = 0.6\n",
        "Emissions_Probs = [[p_sh,p_sg], [p_rh, p_rg]]\n",
        "\n",
        "\n",
        "for perm in range(0,len(potentialPaths)):\n",
        "  P_Yn_Xn = []\n",
        "  P_Xn_Xn = []\n",
        "\n",
        "  for day_1 in range(0,len(moods)):\n",
        "    #if str(potentialPaths[perm]) == \"['S', 'S', 'R', 'R', 'S']\" or str(potentialPaths[perm]) == \"['S', 'S', 'S', 'S', 'S']\":\n",
        "    #pdb.set_trace()\n",
        "    \n",
        "    X_Index = int(potentialPaths_Index[perm][day_1])\n",
        "    Y_Index = int(Visible_States.index(moods[day_1],0,len(moods)))\n",
        "    #print(X_Index)c\n",
        "    #print(Y_Index)\n",
        "    #print(step)\n",
        "\n",
        "\n",
        "    if day_1 == 0:\n",
        "      P_Xn_Xn.append(Initial_Probs[X_Index])\n",
        "    else:\n",
        "      P_X_Index_min1 = int(potentialPaths_Index[perm][day_1 - 1])\n",
        "      P_Xn_Xn.append(Trans_Probs[P_X_Index_min1][X_Index])\n",
        "    P_Yn_Xn.append(Emissions_Probs[X_Index][Y_Index])\n",
        "  prob_temp = 1\n",
        "  \n",
        "  for day in range(0, len(P_Xn_Xn)):\n",
        "    #pdb.set_trace()\n",
        "    prob_temp = prob_temp * P_Xn_Xn[day] * P_Yn_Xn[day]\n",
        "  Probabilities.append(prob_temp)\n",
        "  Total_Probabilities = Total_Probabilities + prob_temp\n",
        "\n",
        "sorted_probs_asec = Probabilities.copy()\n",
        "sorted_probs_asec.sort()\n",
        "#print(Probabilities)\n",
        "#print(sorted_probs_asec)\n",
        "optimiumIndex = Probabilities.index(sorted_probs_asec[-1],0,len(sorted_probs_asec))\n",
        "\n",
        "#####separate calculation of P(Y)\n",
        "Total_Probabilities2 = 1\n",
        "for day_2 in range(0,len(moods)):\n",
        "  # P(Y_n) = P(Y_n|X_n)P(X_n) + P(Y_n|X_n^c)P(X_n^c)\n",
        "  # P(Y) = Joint P(Y_n)\n",
        "  Y_Index = int(Visible_States.index(moods[day_2],0,len(moods)))\n",
        "  #Total_Probabilities2 = Total_Probabilities2 * \n",
        "\n",
        "\n",
        "prob = Probabilities[optimiumIndex] / Total_Probabilities\n",
        "\n",
        "print(\"most likely permutation is: \" + str(potentialPaths[optimiumIndex]))\n",
        "prob_print = str(\"%.2f\" % prob)\n",
        "print(\"with a prob of: \", prob_print)\n",
        "print(\"this is out of a total \" + str(len(potentialPaths)) + str(\" potential permutations\"))\n",
        "\n",
        "#print(sorted_probs_asec[1])\n",
        "#print(Probabilities[optimiumIndex])\n"
      ],
      "execution_count": null,
      "outputs": [
        {
          "output_type": "stream",
          "name": "stdout",
          "text": [
            "most likely permutation is: ['S', 'S', 'R', 'R', 'R', 'S', 'S', 'R', 'R', 'R', 'S', 'S', 'R', 'R', 'R', 'S', 'S', 'R', 'R', 'R', 'S']\n",
            "with a prob of:  0.00\n",
            "this is out of a total 2097152 potential permutations\n"
          ]
        }
      ]
    },
    {
      "cell_type": "markdown",
      "source": [
        "# New section"
      ],
      "metadata": {
        "id": "QYsZCX3la04d"
      }
    },
    {
      "cell_type": "code",
      "metadata": {
        "colab": {
          "base_uri": "https://localhost:8080/"
        },
        "id": "kbB_fMKFrKV3",
        "outputId": "61fbebf0-9c7b-4636-f9df-e4a565e999bf"
      },
      "source": [
        "print(optimiumIndex)\n",
        "print(Total_Probabilities)\n",
        "print(Probabilities[optimiumIndex])\n",
        "print(Probabilities[optimiumIndex]/Total_Probabilities)"
      ],
      "execution_count": null,
      "outputs": [
        {
          "output_type": "stream",
          "name": "stdout",
          "text": [
            "14\n",
            "0.011936890880000009\n",
            "0.00169869312\n",
            "0.14230616138463006\n"
          ]
        }
      ]
    },
    {
      "cell_type": "markdown",
      "metadata": {
        "id": "aO2-plr9GXIO"
      },
      "source": [
        ""
      ]
    },
    {
      "cell_type": "markdown",
      "metadata": {
        "id": "0horDLQdMFnT"
      },
      "source": [
        ""
      ]
    }
  ]
}